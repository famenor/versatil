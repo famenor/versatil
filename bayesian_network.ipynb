{
 "cells": [
  {
   "cell_type": "code",
   "execution_count": 1,
   "id": "4b4e6344",
   "metadata": {},
   "outputs": [],
   "source": [
    "from pgmpy.models import BayesianNetwork\n",
    "from pgmpy.factors.discrete import TabularCPD\n",
    "from pgmpy.inference import VariableElimination\n",
    "\n",
    "import networkx as nx\n",
    "import pylab as plt"
   ]
  },
  {
   "cell_type": "code",
   "execution_count": 2,
   "id": "e9d4bfbc",
   "metadata": {},
   "outputs": [
    {
     "data": {
      "text/plain": [
       "True"
      ]
     },
     "execution_count": 2,
     "metadata": {},
     "output_type": "execute_result"
    }
   ],
   "source": [
    "covid_model = BayesianNetwork(\n",
    "    [\n",
    "        (\"gender\", \"smoke\"),\n",
    "        (\"gender\", \"diabetes\"),\n",
    "        (\"smoke\", \"covid\"),\n",
    "        (\"diabetes\", \"covid\"),\n",
    "        (\"vaccinated\", \"covid\"),\n",
    "        (\"covid\", \"death\")\n",
    "    ]\n",
    ")\n",
    "\n",
    "cpd_gender = TabularCPD(variable=\"gender\", variable_card=2, values=[[0.6], [0.4]], \n",
    "                      state_names={'gender': ['male', 'female']})\n",
    "\n",
    "cpd_vaccinated = TabularCPD(variable=\"vaccinated\", variable_card=2, values=[[0.5], [0.5]],\n",
    "                           state_names={'vaccinated': ['yes', 'no']})\n",
    "\n",
    "cpd_smoke = TabularCPD(\n",
    "    variable=\"smoke\",\n",
    "    variable_card=2,\n",
    "    values=[[0.25, 0.15], \n",
    "            [0.75, 0.85]],\n",
    "    evidence=[\"gender\"],\n",
    "    evidence_card=[2],\n",
    "    state_names={'gender': ['male', 'female'], 'smoke': ['yes', 'no']}\n",
    ")\n",
    "\n",
    "cpd_diabetes = TabularCPD(\n",
    "    variable=\"diabetes\",\n",
    "    variable_card=2,\n",
    "    values=[[0.10, 0.07], \n",
    "            [0.90, 0.93]],\n",
    "    evidence=[\"gender\"],\n",
    "    evidence_card=[2],\n",
    "    state_names={'gender': ['male', 'female'], 'diabetes': ['yes', 'no']}\n",
    ")\n",
    "\n",
    "cpd_covid = TabularCPD(\n",
    "    variable=\"covid\",\n",
    "    variable_card=2,\n",
    "    values=[[0.20, 0.70, 0.15, 0.65, 0.15, 0.65, 0.10, 0.60], \n",
    "            [0.80, 0.30, 0.85, 0.35, 0.85, 0.35, 0.90, 0.40]],\n",
    "    evidence=[\"smoke\", \"diabetes\", \"vaccinated\"],\n",
    "    evidence_card=[2, 2, 2],\n",
    "    state_names={'smoke': ['yes', 'no'], 'diabetes': ['yes', 'no'], \n",
    "                 'vaccinated': ['yes', 'no'], 'covid': ['yes', 'no']}\n",
    ")\n",
    "\n",
    "cpd_death = TabularCPD(\n",
    "    variable=\"death\",\n",
    "    variable_card=2,\n",
    "    values=[[0.3, 0.01], \n",
    "            [0.7, 0.99]],\n",
    "    evidence=[\"covid\"],\n",
    "    evidence_card=[2],\n",
    "    state_names={'covid': ['yes', 'no'], 'death': ['yes', 'no']}\n",
    ")\n",
    "\n",
    "# Associating the parameters with the model structure.\n",
    "covid_model.add_cpds(cpd_gender, cpd_vaccinated, cpd_smoke, cpd_diabetes, cpd_covid, cpd_death)\n",
    "\n",
    "# Checking if the cpds are valid for the model.\n",
    "covid_model.check_model()"
   ]
  },
  {
   "cell_type": "code",
   "execution_count": 3,
   "id": "4152077e",
   "metadata": {},
   "outputs": [
    {
     "data": {
      "image/png": "[encoded data removed]",
      "text/plain": [
       "<Figure size 432x288 with 1 Axes>"
      ]
     },
     "metadata": {},
     "output_type": "display_data"
    }
   ],
   "source": [
    "nx.draw(covid_model, with_labels=True)\n",
    "plt.show()"
   ]
  },
  {
   "cell_type": "code",
   "execution_count": 4,
   "id": "3f098265",
   "metadata": {},
   "outputs": [
    {
     "name": "stdout",
     "output_type": "stream",
     "text": [
      "True\n",
      "True\n",
      "False\n"
     ]
    }
   ],
   "source": [
    "print(covid_model.is_dconnected(\"gender\", \"smoke\"))\n",
    "print(covid_model.is_dconnected(\"gender\", \"death\"))\n",
    "print(covid_model.is_dconnected(\"gender\", \"death\", observed=[\"covid\"]))"
   ]
  },
  {
   "cell_type": "code",
   "execution_count": 5,
   "id": "c790adbb",
   "metadata": {},
   "outputs": [
    {
     "name": "stdout",
     "output_type": "stream",
     "text": [
      "{'gender': {'gender', 'diabetes', 'death', 'smoke', 'covid'}}\n",
      "{'smoke': {'gender', 'diabetes', 'death', 'smoke', 'covid'}}\n",
      "{'diabetes': {'gender', 'diabetes', 'death', 'smoke', 'covid'}}\n",
      "{'vaccinated': {'vaccinated', 'death', 'covid'}}\n",
      "{'covid': {'gender', 'diabetes', 'death', 'smoke', 'vaccinated', 'covid'}}\n",
      "{'death': {'gender', 'diabetes', 'death', 'smoke', 'vaccinated', 'covid'}}\n"
     ]
    }
   ],
   "source": [
    "print(covid_model.active_trail_nodes(\"gender\"))\n",
    "print(covid_model.active_trail_nodes(\"smoke\"))\n",
    "print(covid_model.active_trail_nodes(\"diabetes\"))\n",
    "print(covid_model.active_trail_nodes(\"vaccinated\"))\n",
    "print(covid_model.active_trail_nodes(\"covid\"))\n",
    "print(covid_model.active_trail_nodes(\"death\"))"
   ]
  },
  {
   "cell_type": "code",
   "execution_count": 6,
   "id": "1f1efee7",
   "metadata": {},
   "outputs": [
    {
     "data": {
      "text/plain": [
       "(gender ⟂ vaccinated)\n",
       "(gender ⟂ vaccinated | diabetes)\n",
       "(gender ⟂ vaccinated | smoke)\n",
       "(gender ⟂ death | covid)\n",
       "(gender ⟂ vaccinated, death, covid | diabetes, smoke)\n",
       "(gender ⟂ death | diabetes, covid)\n",
       "(gender ⟂ death | covid, smoke)\n",
       "(gender ⟂ death | vaccinated, covid)\n",
       "(gender ⟂ vaccinated, covid | diabetes, death, smoke)\n",
       "(gender ⟂ death, covid | vaccinated, diabetes, smoke)\n",
       "(gender ⟂ vaccinated, death | diabetes, covid, smoke)\n",
       "(gender ⟂ death | vaccinated, diabetes, covid)\n",
       "(gender ⟂ death | vaccinated, covid, smoke)\n",
       "(gender ⟂ covid | vaccinated, diabetes, death, smoke)\n",
       "(gender ⟂ vaccinated | covid, diabetes, death, smoke)\n",
       "(gender ⟂ death | vaccinated, diabetes, covid, smoke)\n",
       "(diabetes ⟂ vaccinated)\n",
       "(diabetes ⟂ vaccinated, smoke | gender)\n",
       "(diabetes ⟂ vaccinated | smoke)\n",
       "(diabetes ⟂ death | covid)\n",
       "(diabetes ⟂ vaccinated | gender, smoke)\n",
       "(diabetes ⟂ smoke | gender, vaccinated)\n",
       "(diabetes ⟂ death | gender, covid)\n",
       "(diabetes ⟂ death | covid, smoke)\n",
       "(diabetes ⟂ death | vaccinated, covid)\n",
       "(diabetes ⟂ death | gender, covid, smoke)\n",
       "(diabetes ⟂ death | gender, covid, vaccinated)\n",
       "(diabetes ⟂ death | vaccinated, covid, smoke)\n",
       "(diabetes ⟂ death | gender, covid, smoke, vaccinated)\n",
       "(death ⟂ gender, diabetes, smoke, vaccinated | covid)\n",
       "(death ⟂ vaccinated, diabetes, smoke | gender, covid)\n",
       "(death ⟂ gender | diabetes, smoke)\n",
       "(death ⟂ gender, smoke, vaccinated | diabetes, covid)\n",
       "(death ⟂ gender, diabetes, vaccinated | covid, smoke)\n",
       "(death ⟂ gender, diabetes, smoke | vaccinated, covid)\n",
       "(death ⟂ vaccinated, smoke | gender, diabetes, covid)\n",
       "(death ⟂ vaccinated, diabetes | gender, covid, smoke)\n",
       "(death ⟂ diabetes, smoke | gender, covid, vaccinated)\n",
       "(death ⟂ gender | vaccinated, diabetes, smoke)\n",
       "(death ⟂ gender, vaccinated | diabetes, covid, smoke)\n",
       "(death ⟂ gender, smoke | vaccinated, diabetes, covid)\n",
       "(death ⟂ gender, diabetes | vaccinated, covid, smoke)\n",
       "(death ⟂ vaccinated | gender, diabetes, covid, smoke)\n",
       "(death ⟂ smoke | gender, diabetes, covid, vaccinated)\n",
       "(death ⟂ diabetes | gender, covid, smoke, vaccinated)\n",
       "(death ⟂ gender | vaccinated, diabetes, covid, smoke)\n",
       "(smoke ⟂ vaccinated)\n",
       "(smoke ⟂ vaccinated, diabetes | gender)\n",
       "(smoke ⟂ vaccinated | diabetes)\n",
       "(smoke ⟂ death | covid)\n",
       "(smoke ⟂ vaccinated | gender, diabetes)\n",
       "(smoke ⟂ diabetes | gender, vaccinated)\n",
       "(smoke ⟂ death | gender, covid)\n",
       "(smoke ⟂ death | diabetes, covid)\n",
       "(smoke ⟂ death | vaccinated, covid)\n",
       "(smoke ⟂ death | gender, diabetes, covid)\n",
       "(smoke ⟂ death | gender, covid, vaccinated)\n",
       "(smoke ⟂ death | vaccinated, diabetes, covid)\n",
       "(smoke ⟂ death | gender, diabetes, covid, vaccinated)\n",
       "(vaccinated ⟂ gender, diabetes, smoke)\n",
       "(vaccinated ⟂ diabetes, smoke | gender)\n",
       "(vaccinated ⟂ gender, smoke | diabetes)\n",
       "(vaccinated ⟂ gender, diabetes | smoke)\n",
       "(vaccinated ⟂ death | covid)\n",
       "(vaccinated ⟂ smoke | gender, diabetes)\n",
       "(vaccinated ⟂ diabetes | gender, smoke)\n",
       "(vaccinated ⟂ death | gender, covid)\n",
       "(vaccinated ⟂ gender | diabetes, smoke)\n",
       "(vaccinated ⟂ death | diabetes, covid)\n",
       "(vaccinated ⟂ death | covid, smoke)\n",
       "(vaccinated ⟂ death | gender, diabetes, covid)\n",
       "(vaccinated ⟂ death | gender, covid, smoke)\n",
       "(vaccinated ⟂ gender | diabetes, death, smoke)\n",
       "(vaccinated ⟂ gender, death | diabetes, covid, smoke)\n",
       "(vaccinated ⟂ death | gender, diabetes, covid, smoke)\n",
       "(vaccinated ⟂ gender | covid, diabetes, death, smoke)\n",
       "(covid ⟂ gender | diabetes, smoke)\n",
       "(covid ⟂ gender | diabetes, death, smoke)\n",
       "(covid ⟂ gender | vaccinated, diabetes, smoke)\n",
       "(covid ⟂ gender | vaccinated, diabetes, death, smoke)"
      ]
     },
     "execution_count": 6,
     "metadata": {},
     "output_type": "execute_result"
    }
   ],
   "source": [
    "covid_model.get_independencies()"
   ]
  },
  {
   "cell_type": "code",
   "execution_count": 7,
   "id": "11ad4ec6",
   "metadata": {},
   "outputs": [
    {
     "name": "stdout",
     "output_type": "stream",
     "text": [
      "+----------------+-----+\n",
      "| gender(male)   | 0.6 |\n",
      "+----------------+-----+\n",
      "| gender(female) | 0.4 |\n",
      "+----------------+-----+\n",
      "+-----------------+-----+\n",
      "| vaccinated(yes) | 0.5 |\n",
      "+-----------------+-----+\n",
      "| vaccinated(no)  | 0.5 |\n",
      "+-----------------+-----+\n",
      "+------------+--------------+----------------+\n",
      "| gender     | gender(male) | gender(female) |\n",
      "+------------+--------------+----------------+\n",
      "| smoke(yes) | 0.25         | 0.15           |\n",
      "+------------+--------------+----------------+\n",
      "| smoke(no)  | 0.75         | 0.85           |\n",
      "+------------+--------------+----------------+\n",
      "+---------------+--------------+----------------+\n",
      "| gender        | gender(male) | gender(female) |\n",
      "+---------------+--------------+----------------+\n",
      "| diabetes(yes) | 0.1          | 0.07           |\n",
      "+---------------+--------------+----------------+\n",
      "| diabetes(no)  | 0.9          | 0.93           |\n",
      "+---------------+--------------+----------------+\n",
      "+------------+-----------------+----------------+-----------------+----------------+-----------------+----------------+-----------------+----------------+\n",
      "| smoke      | smoke(yes)      | smoke(yes)     | smoke(yes)      | smoke(yes)     | smoke(no)       | smoke(no)      | smoke(no)       | smoke(no)      |\n",
      "+------------+-----------------+----------------+-----------------+----------------+-----------------+----------------+-----------------+----------------+\n",
      "| diabetes   | diabetes(yes)   | diabetes(yes)  | diabetes(no)    | diabetes(no)   | diabetes(yes)   | diabetes(yes)  | diabetes(no)    | diabetes(no)   |\n",
      "+------------+-----------------+----------------+-----------------+----------------+-----------------+----------------+-----------------+----------------+\n",
      "| vaccinated | vaccinated(yes) | vaccinated(no) | vaccinated(yes) | vaccinated(no) | vaccinated(yes) | vaccinated(no) | vaccinated(yes) | vaccinated(no) |\n",
      "+------------+-----------------+----------------+-----------------+----------------+-----------------+----------------+-----------------+----------------+\n",
      "| covid(yes) | 0.2             | 0.7            | 0.15            | 0.65           | 0.15            | 0.65           | 0.1             | 0.6            |\n",
      "+------------+-----------------+----------------+-----------------+----------------+-----------------+----------------+-----------------+----------------+\n",
      "| covid(no)  | 0.8             | 0.3            | 0.85            | 0.35           | 0.85            | 0.35           | 0.9             | 0.4            |\n",
      "+------------+-----------------+----------------+-----------------+----------------+-----------------+----------------+-----------------+----------------+\n",
      "+------------+------------+-----------+\n",
      "| covid      | covid(yes) | covid(no) |\n",
      "+------------+------------+-----------+\n",
      "| death(yes) | 0.3        | 0.01      |\n",
      "+------------+------------+-----------+\n",
      "| death(no)  | 0.7        | 0.99      |\n",
      "+------------+------------+-----------+\n"
     ]
    }
   ],
   "source": [
    "print(cpd_gender)\n",
    "print(cpd_vaccinated)\n",
    "print(cpd_smoke)\n",
    "print(cpd_diabetes)\n",
    "print(cpd_covid)\n",
    "print(cpd_death)"
   ]
  },
  {
   "cell_type": "code",
   "execution_count": 8,
   "id": "10f4341d",
   "metadata": {},
   "outputs": [
    {
     "name": "stdout",
     "output_type": "stream",
     "text": [
      "Node: gender\n"
     ]
    },
    {
     "data": {
      "application/vnd.jupyter.widget-view+json": {
       "model_id": "3c523cf0a1a34408bfd4f29267e23beb",
       "version_major": 2,
       "version_minor": 0
      },
      "text/plain": [
       "0it [00:00, ?it/s]"
      ]
     },
     "metadata": {},
     "output_type": "display_data"
    },
    {
     "data": {
      "application/vnd.jupyter.widget-view+json": {
       "model_id": "7df795735a5e45a79caff1446c899fd9",
       "version_major": 2,
       "version_minor": 0
      },
      "text/plain": [
       "0it [00:00, ?it/s]"
      ]
     },
     "metadata": {},
     "output_type": "display_data"
    },
    {
     "name": "stdout",
     "output_type": "stream",
     "text": [
      "+----------------+---------------+\n",
      "| gender         |   phi(gender) |\n",
      "+================+===============+\n",
      "| gender(male)   |        0.6000 |\n",
      "+----------------+---------------+\n",
      "| gender(female) |        0.4000 |\n",
      "+----------------+---------------+\n",
      "Node: smoke\n"
     ]
    },
    {
     "data": {
      "application/vnd.jupyter.widget-view+json": {
       "model_id": "d48adce6e6954fd685267b3cca981938",
       "version_major": 2,
       "version_minor": 0
      },
      "text/plain": [
       "  0%|          | 0/1 [00:00<?, ?it/s]"
      ]
     },
     "metadata": {},
     "output_type": "display_data"
    },
    {
     "data": {
      "application/vnd.jupyter.widget-view+json": {
       "model_id": "762b043ed1ff4cf797e69e57696de99b",
       "version_major": 2,
       "version_minor": 0
      },
      "text/plain": [
       "  0%|          | 0/1 [00:00<?, ?it/s]"
      ]
     },
     "metadata": {},
     "output_type": "display_data"
    },
    {
     "name": "stdout",
     "output_type": "stream",
     "text": [
      "+------------+--------------+\n",
      "| smoke      |   phi(smoke) |\n",
      "+============+==============+\n",
      "| smoke(yes) |       0.2100 |\n",
      "+------------+--------------+\n",
      "| smoke(no)  |       0.7900 |\n",
      "+------------+--------------+\n",
      "Node: diabetes\n"
     ]
    },
    {
     "data": {
      "application/vnd.jupyter.widget-view+json": {
       "model_id": "208a73fb02594bac83bce5c41d1096f6",
       "version_major": 2,
       "version_minor": 0
      },
      "text/plain": [
       "  0%|          | 0/1 [00:00<?, ?it/s]"
      ]
     },
     "metadata": {},
     "output_type": "display_data"
    },
    {
     "data": {
      "application/vnd.jupyter.widget-view+json": {
       "model_id": "ffb3d854d3ac4ba696527e12df9c2ec8",
       "version_major": 2,
       "version_minor": 0
      },
      "text/plain": [
       "  0%|          | 0/1 [00:00<?, ?it/s]"
      ]
     },
     "metadata": {},
     "output_type": "display_data"
    },
    {
     "name": "stdout",
     "output_type": "stream",
     "text": [
      "+---------------+-----------------+\n",
      "| diabetes      |   phi(diabetes) |\n",
      "+===============+=================+\n",
      "| diabetes(yes) |          0.0880 |\n",
      "+---------------+-----------------+\n",
      "| diabetes(no)  |          0.9120 |\n",
      "+---------------+-----------------+\n",
      "Node: vaccinated\n"
     ]
    },
    {
     "data": {
      "application/vnd.jupyter.widget-view+json": {
       "model_id": "f76ccf3b53ef4819a6730fa808642077",
       "version_major": 2,
       "version_minor": 0
      },
      "text/plain": [
       "0it [00:00, ?it/s]"
      ]
     },
     "metadata": {},
     "output_type": "display_data"
    },
    {
     "data": {
      "application/vnd.jupyter.widget-view+json": {
       "model_id": "63b9e6865fcb4a8787e3ea59749affde",
       "version_major": 2,
       "version_minor": 0
      },
      "text/plain": [
       "0it [00:00, ?it/s]"
      ]
     },
     "metadata": {},
     "output_type": "display_data"
    },
    {
     "name": "stdout",
     "output_type": "stream",
     "text": [
      "+-----------------+-------------------+\n",
      "| vaccinated      |   phi(vaccinated) |\n",
      "+=================+===================+\n",
      "| vaccinated(yes) |            0.5000 |\n",
      "+-----------------+-------------------+\n",
      "| vaccinated(no)  |            0.5000 |\n",
      "+-----------------+-------------------+\n",
      "Node: covid\n"
     ]
    },
    {
     "data": {
      "application/vnd.jupyter.widget-view+json": {
       "model_id": "6218df95f5d44861a0df039616c9e20f",
       "version_major": 2,
       "version_minor": 0
      },
      "text/plain": [
       "  0%|          | 0/4 [00:00<?, ?it/s]"
      ]
     },
     "metadata": {},
     "output_type": "display_data"
    },
    {
     "data": {
      "application/vnd.jupyter.widget-view+json": {
       "model_id": "75f410853cc44efca08b1192a3bc3076",
       "version_major": 2,
       "version_minor": 0
      },
      "text/plain": [
       "  0%|          | 0/4 [00:00<?, ?it/s]"
      ]
     },
     "metadata": {},
     "output_type": "display_data"
    },
    {
     "name": "stdout",
     "output_type": "stream",
     "text": [
      "+------------+--------------+\n",
      "| covid      |   phi(covid) |\n",
      "+============+==============+\n",
      "| covid(yes) |       0.3649 |\n",
      "+------------+--------------+\n",
      "| covid(no)  |       0.6351 |\n",
      "+------------+--------------+\n",
      "Node: death\n"
     ]
    },
    {
     "data": {
      "application/vnd.jupyter.widget-view+json": {
       "model_id": "23783a9aedc54a54802c3eb67ebcebf5",
       "version_major": 2,
       "version_minor": 0
      },
      "text/plain": [
       "  0%|          | 0/5 [00:00<?, ?it/s]"
      ]
     },
     "metadata": {},
     "output_type": "display_data"
    },
    {
     "data": {
      "application/vnd.jupyter.widget-view+json": {
       "model_id": "ae1c572a2cbb4134aff685116781176d",
       "version_major": 2,
       "version_minor": 0
      },
      "text/plain": [
       "  0%|          | 0/5 [00:00<?, ?it/s]"
      ]
     },
     "metadata": {},
     "output_type": "display_data"
    },
    {
     "name": "stdout",
     "output_type": "stream",
     "text": [
      "+------------+--------------+\n",
      "| death      |   phi(death) |\n",
      "+============+==============+\n",
      "| death(yes) |       0.1158 |\n",
      "+------------+--------------+\n",
      "| death(no)  |       0.8842 |\n",
      "+------------+--------------+\n"
     ]
    }
   ],
   "source": [
    "infer = VariableElimination(covid_model)\n",
    "for node in ['gender', 'smoke', 'diabetes', 'vaccinated', 'covid', 'death']:\n",
    "    print('Node:', node)\n",
    "    g_dist = infer.query([node])\n",
    "    print(g_dist)\n"
   ]
  },
  {
   "cell_type": "code",
   "execution_count": 9,
   "id": "1a27d695",
   "metadata": {},
   "outputs": [
    {
     "data": {
      "application/vnd.jupyter.widget-view+json": {
       "model_id": "b5a478aea0dc440994cbceb74286b665",
       "version_major": 2,
       "version_minor": 0
      },
      "text/plain": [
       "  0%|          | 0/3 [00:00<?, ?it/s]"
      ]
     },
     "metadata": {},
     "output_type": "display_data"
    },
    {
     "data": {
      "application/vnd.jupyter.widget-view+json": {
       "model_id": "6f2b3523d6d84e18bb0d52fda83bb539",
       "version_major": 2,
       "version_minor": 0
      },
      "text/plain": [
       "  0%|          | 0/3 [00:00<?, ?it/s]"
      ]
     },
     "metadata": {},
     "output_type": "display_data"
    },
    {
     "name": "stdout",
     "output_type": "stream",
     "text": [
      "+-----------------+------------+-------------------------+\n",
      "| vaccinated      | covid      |   phi(vaccinated,covid) |\n",
      "+=================+============+=========================+\n",
      "| vaccinated(yes) | covid(yes) |                  0.0575 |\n",
      "+-----------------+------------+-------------------------+\n",
      "| vaccinated(yes) | covid(no)  |                  0.4426 |\n",
      "+-----------------+------------+-------------------------+\n",
      "| vaccinated(no)  | covid(yes) |                  0.3075 |\n",
      "+-----------------+------------+-------------------------+\n",
      "| vaccinated(no)  | covid(no)  |                  0.1926 |\n",
      "+-----------------+------------+-------------------------+\n"
     ]
    }
   ],
   "source": [
    "infer = VariableElimination(covid_model)\n",
    "g_dist = infer.query(['covid', 'vaccinated'])\n",
    "print(g_dist)"
   ]
  },
  {
   "cell_type": "code",
   "execution_count": 10,
   "id": "c2a371ca",
   "metadata": {},
   "outputs": [
    {
     "data": {
      "application/vnd.jupyter.widget-view+json": {
       "model_id": "52547803adc34298a18a30221ec2e426",
       "version_major": 2,
       "version_minor": 0
      },
      "text/plain": [
       "  0%|          | 0/3 [00:00<?, ?it/s]"
      ]
     },
     "metadata": {},
     "output_type": "display_data"
    },
    {
     "data": {
      "application/vnd.jupyter.widget-view+json": {
       "model_id": "cee7d873da5d4524ae29d40f2b043c91",
       "version_major": 2,
       "version_minor": 0
      },
      "text/plain": [
       "  0%|          | 0/3 [00:00<?, ?it/s]"
      ]
     },
     "metadata": {},
     "output_type": "display_data"
    },
    {
     "name": "stdout",
     "output_type": "stream",
     "text": [
      "+------------+--------------+\n",
      "| covid      |   phi(covid) |\n",
      "+============+==============+\n",
      "| covid(yes) |       0.1149 |\n",
      "+------------+--------------+\n",
      "| covid(no)  |       0.8851 |\n",
      "+------------+--------------+\n"
     ]
    },
    {
     "data": {
      "application/vnd.jupyter.widget-view+json": {
       "model_id": "e8a2c433a5a54efa992e2bfa65646a87",
       "version_major": 2,
       "version_minor": 0
      },
      "text/plain": [
       "  0%|          | 0/3 [00:00<?, ?it/s]"
      ]
     },
     "metadata": {},
     "output_type": "display_data"
    },
    {
     "data": {
      "application/vnd.jupyter.widget-view+json": {
       "model_id": "a5e79653053040d39db81d0c256fdc59",
       "version_major": 2,
       "version_minor": 0
      },
      "text/plain": [
       "  0%|          | 0/3 [00:00<?, ?it/s]"
      ]
     },
     "metadata": {},
     "output_type": "display_data"
    },
    {
     "name": "stdout",
     "output_type": "stream",
     "text": [
      "+------------+--------------+\n",
      "| covid      |   phi(covid) |\n",
      "+============+==============+\n",
      "| covid(yes) |       0.6149 |\n",
      "+------------+--------------+\n",
      "| covid(no)  |       0.3851 |\n",
      "+------------+--------------+\n"
     ]
    }
   ],
   "source": [
    "print(infer.query(['covid'], evidence={'vaccinated': 'yes'}))\n",
    "print(infer.query(['covid'], evidence={'vaccinated': 'no'}))"
   ]
  },
  {
   "cell_type": "code",
   "execution_count": 12,
   "id": "f5ffd1c1",
   "metadata": {},
   "outputs": [
    {
     "data": {
      "application/vnd.jupyter.widget-view+json": {
       "model_id": "a2133c9ec44b40af9a2dba3185d1d14f",
       "version_major": 2,
       "version_minor": 0
      },
      "text/plain": [
       "  0%|          | 0/1 [00:00<?, ?it/s]"
      ]
     },
     "metadata": {},
     "output_type": "display_data"
    },
    {
     "data": {
      "application/vnd.jupyter.widget-view+json": {
       "model_id": "4f4e3420accf4c54a37c640fb006ab02",
       "version_major": 2,
       "version_minor": 0
      },
      "text/plain": [
       "  0%|          | 0/1 [00:00<?, ?it/s]"
      ]
     },
     "metadata": {},
     "output_type": "display_data"
    },
    {
     "name": "stdout",
     "output_type": "stream",
     "text": [
      "+------------+--------------+\n",
      "| covid      |   phi(covid) |\n",
      "+============+==============+\n",
      "| covid(yes) |       0.4500 |\n",
      "+------------+--------------+\n",
      "| covid(no)  |       0.5500 |\n",
      "+------------+--------------+\n"
     ]
    },
    {
     "data": {
      "application/vnd.jupyter.widget-view+json": {
       "model_id": "cb64752112724e3082fb0b36a0e0f5ca",
       "version_major": 2,
       "version_minor": 0
      },
      "text/plain": [
       "  0%|          | 0/1 [00:00<?, ?it/s]"
      ]
     },
     "metadata": {},
     "output_type": "display_data"
    },
    {
     "data": {
      "application/vnd.jupyter.widget-view+json": {
       "model_id": "8f0bce0a24974bdcb88b22354747cd1d",
       "version_major": 2,
       "version_minor": 0
      },
      "text/plain": [
       "  0%|          | 0/1 [00:00<?, ?it/s]"
      ]
     },
     "metadata": {},
     "output_type": "display_data"
    },
    {
     "name": "stdout",
     "output_type": "stream",
     "text": [
      "+------------+--------------+\n",
      "| covid      |   phi(covid) |\n",
      "+============+==============+\n",
      "| covid(yes) |       0.3500 |\n",
      "+------------+--------------+\n",
      "| covid(no)  |       0.6500 |\n",
      "+------------+--------------+\n"
     ]
    }
   ],
   "source": [
    "print(infer.query(['covid'], evidence={'diabetes': 'yes', 'smoke': 'yes'}))\n",
    "print(infer.query(['covid'], evidence={'diabetes': 'no', 'smoke': 'no'}))"
   ]
  },
  {
   "cell_type": "code",
   "execution_count": null,
   "id": "d9cc496f",
   "metadata": {},
   "outputs": [],
   "source": []
  }
 ],
 "metadata": {
  "kernelspec": {
   "display_name": "Python 3",
   "language": "python",
   "name": "python3"
  },
  "language_info": {
   "codemirror_mode": {
    "name": "ipython",
    "version": 3
   },
   "file_extension": ".py",
   "mimetype": "text/x-python",
   "name": "python",
   "nbconvert_exporter": "python",
   "pygments_lexer": "ipython3",
   "version": "3.8.10"
  }
 },
 "nbformat": 4,
 "nbformat_minor": 5
}
