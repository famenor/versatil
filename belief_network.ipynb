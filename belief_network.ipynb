{
 "cells": [
  {
   "cell_type": "code",
   "execution_count": 1,
   "id": "dd3daf07",
   "metadata": {},
   "outputs": [],
   "source": [
    "import pomegranate as pg"
   ]
  },
  {
   "cell_type": "code",
   "execution_count": 4,
   "id": "618d1d4d",
   "metadata": {},
   "outputs": [],
   "source": [
    "smokeD = pg.DiscreteDistribution({'yes': 0.25, 'no': 0.75})\n",
    "covidD = pg.DiscreteDistribution({'yes': 0.1, 'no': 0.9})\n",
    "\n",
    "hospitalD = pg.ConditionalProbabilityTable(\n",
    "    [['yes', 'yes', 'yes', 0.9], \n",
    "     ['yes', 'yes', 'no', 0.1],\n",
    "     ['yes', 'no', 'yes', 0.1], \n",
    "     ['yes', 'no', 'no', 0.9],\n",
    "     ['no', 'yes', 'yes', 0.9], \n",
    "     ['no', 'yes', 'no', 0.1],\n",
    "     ['no', 'no', 'yes', 0.01], \n",
    "     ['no', 'no', 'no', 0.99]],\n",
    "    [smokeD, covidD])\n",
    "\n",
    " \n",
    "smoke = pg.Node(smokeD, name='smokeD')\n",
    "covid = pg.Node(covidD, name='covidD')\n",
    "hospital = pg.Node(hospitalD, name='hospitalD')"
   ]
  },
  {
   "cell_type": "code",
   "execution_count": 5,
   "id": "da061137",
   "metadata": {},
   "outputs": [
    {
     "name": "stdout",
     "output_type": "stream",
     "text": [
      "['yes' {\n",
      "           \"class\" : \"Distribution\",\n",
      "           \"dtype\" : \"str\",\n",
      "           \"name\" : \"DiscreteDistribution\",\n",
      "           \"parameters\" : [\n",
      "               {\n",
      "                   \"yes\" : 0.5000000000000007,\n",
      "                   \"no\" : 0.49999999999999944\n",
      "               }\n",
      "           ],\n",
      "           \"frozen\" : false\n",
      "       }                                       'yes']\n",
      "['no' {\n",
      "          \"class\" : \"Distribution\",\n",
      "          \"dtype\" : \"str\",\n",
      "          \"name\" : \"DiscreteDistribution\",\n",
      "          \"parameters\" : [\n",
      "              {\n",
      "                  \"yes\" : 0.9090909090909077,\n",
      "                  \"no\" : 0.09090909090909226\n",
      "              }\n",
      "          ],\n",
      "          \"frozen\" : false\n",
      "      }                                       'yes']\n"
     ]
    }
   ],
   "source": [
    "model = pg.BayesianNetwork('Covid Collider')\n",
    "\n",
    "model.add_states(smoke, covid, hospital)\n",
    "model.add_edge(smoke, hospital)\n",
    "model.add_edge(covid, hospital)\n",
    "model.bake()\n",
    "\n",
    "#You could then calculate P(covid|smoking, hospital) = 0.5 with\n",
    "\n",
    "x = model.predict_proba({'smokeD': 'yes', 'hospitalD': 'yes'})\n",
    "print(x)\n",
    "\n",
    "#and P(covid|¬smoking, hospital)=0.91 with\n",
    "\n",
    "x = model.predict_proba({'smokeD': 'no', 'hospitalD': 'yes'})\n",
    "print(x)"
   ]
  },
  {
   "cell_type": "code",
   "execution_count": null,
   "id": "45a661e0",
   "metadata": {},
   "outputs": [],
   "source": []
  }
 ],
 "metadata": {
  "kernelspec": {
   "display_name": "Python 3",
   "language": "python",
   "name": "python3"
  },
  "language_info": {
   "codemirror_mode": {
    "name": "ipython",
    "version": 3
   },
   "file_extension": ".py",
   "mimetype": "text/x-python",
   "name": "python",
   "nbconvert_exporter": "python",
   "pygments_lexer": "ipython3",
   "version": "3.8.10"
  }
 },
 "nbformat": 4,
 "nbformat_minor": 5
}
